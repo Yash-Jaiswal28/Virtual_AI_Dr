{
  "nbformat": 4,
  "nbformat_minor": 0,
  "metadata": {
    "colab": {
      "provenance": [],
      "authorship_tag": "ABX9TyOL9g43G6Rq+1E//AjpSzgb",
      "include_colab_link": true
    },
    "kernelspec": {
      "name": "python3",
      "display_name": "Python 3"
    },
    "language_info": {
      "name": "python"
    }
  },
  "cells": [
    {
      "cell_type": "markdown",
      "metadata": {
        "id": "view-in-github",
        "colab_type": "text"
      },
      "source": [
        "<a href=\"https://colab.research.google.com/github/Yash-Jaiswal28/Virtual_AI_Dr/blob/main/Demo_Ai_bot.ipynb\" target=\"_parent\"><img src=\"https://colab.research.google.com/assets/colab-badge.svg\" alt=\"Open In Colab\"/></a>"
      ]
    },
    {
      "cell_type": "code",
      "source": [
        "!pip install langchain-groq\n",
        "!pip install langchain_community"
      ],
      "metadata": {
        "colab": {
          "base_uri": "https://localhost:8080/"
        },
        "collapsed": true,
        "id": "2JTRxnZNxy2b",
        "outputId": "fdf11656-cf76-44cb-e2a5-c5e50f7c85c6"
      },
      "execution_count": 1,
      "outputs": [
        {
          "output_type": "stream",
          "name": "stdout",
          "text": [
            "Collecting langchain-groq\n",
            "  Downloading langchain_groq-0.1.9-py3-none-any.whl.metadata (2.9 kB)\n",
            "Collecting groq<1,>=0.4.1 (from langchain-groq)\n",
            "  Downloading groq-0.9.0-py3-none-any.whl.metadata (13 kB)\n",
            "Collecting langchain-core<0.3.0,>=0.2.26 (from langchain-groq)\n",
            "  Downloading langchain_core-0.2.28-py3-none-any.whl.metadata (6.2 kB)\n",
            "Requirement already satisfied: anyio<5,>=3.5.0 in /usr/local/lib/python3.10/dist-packages (from groq<1,>=0.4.1->langchain-groq) (3.7.1)\n",
            "Requirement already satisfied: distro<2,>=1.7.0 in /usr/lib/python3/dist-packages (from groq<1,>=0.4.1->langchain-groq) (1.7.0)\n",
            "Collecting httpx<1,>=0.23.0 (from groq<1,>=0.4.1->langchain-groq)\n",
            "  Downloading httpx-0.27.0-py3-none-any.whl.metadata (7.2 kB)\n",
            "Requirement already satisfied: pydantic<3,>=1.9.0 in /usr/local/lib/python3.10/dist-packages (from groq<1,>=0.4.1->langchain-groq) (2.8.2)\n",
            "Requirement already satisfied: sniffio in /usr/local/lib/python3.10/dist-packages (from groq<1,>=0.4.1->langchain-groq) (1.3.1)\n",
            "Requirement already satisfied: typing-extensions<5,>=4.7 in /usr/local/lib/python3.10/dist-packages (from groq<1,>=0.4.1->langchain-groq) (4.12.2)\n",
            "Requirement already satisfied: PyYAML>=5.3 in /usr/local/lib/python3.10/dist-packages (from langchain-core<0.3.0,>=0.2.26->langchain-groq) (6.0.1)\n",
            "Collecting jsonpatch<2.0,>=1.33 (from langchain-core<0.3.0,>=0.2.26->langchain-groq)\n",
            "  Downloading jsonpatch-1.33-py2.py3-none-any.whl.metadata (3.0 kB)\n",
            "Collecting langsmith<0.2.0,>=0.1.75 (from langchain-core<0.3.0,>=0.2.26->langchain-groq)\n",
            "  Downloading langsmith-0.1.98-py3-none-any.whl.metadata (13 kB)\n",
            "Requirement already satisfied: packaging<25,>=23.2 in /usr/local/lib/python3.10/dist-packages (from langchain-core<0.3.0,>=0.2.26->langchain-groq) (24.1)\n",
            "Collecting tenacity!=8.4.0,<9.0.0,>=8.1.0 (from langchain-core<0.3.0,>=0.2.26->langchain-groq)\n",
            "  Downloading tenacity-8.5.0-py3-none-any.whl.metadata (1.2 kB)\n",
            "Requirement already satisfied: idna>=2.8 in /usr/local/lib/python3.10/dist-packages (from anyio<5,>=3.5.0->groq<1,>=0.4.1->langchain-groq) (3.7)\n",
            "Requirement already satisfied: exceptiongroup in /usr/local/lib/python3.10/dist-packages (from anyio<5,>=3.5.0->groq<1,>=0.4.1->langchain-groq) (1.2.2)\n",
            "Requirement already satisfied: certifi in /usr/local/lib/python3.10/dist-packages (from httpx<1,>=0.23.0->groq<1,>=0.4.1->langchain-groq) (2024.7.4)\n",
            "Collecting httpcore==1.* (from httpx<1,>=0.23.0->groq<1,>=0.4.1->langchain-groq)\n",
            "  Downloading httpcore-1.0.5-py3-none-any.whl.metadata (20 kB)\n",
            "Collecting h11<0.15,>=0.13 (from httpcore==1.*->httpx<1,>=0.23.0->groq<1,>=0.4.1->langchain-groq)\n",
            "  Downloading h11-0.14.0-py3-none-any.whl.metadata (8.2 kB)\n",
            "Collecting jsonpointer>=1.9 (from jsonpatch<2.0,>=1.33->langchain-core<0.3.0,>=0.2.26->langchain-groq)\n",
            "  Downloading jsonpointer-3.0.0-py2.py3-none-any.whl.metadata (2.3 kB)\n",
            "Collecting orjson<4.0.0,>=3.9.14 (from langsmith<0.2.0,>=0.1.75->langchain-core<0.3.0,>=0.2.26->langchain-groq)\n",
            "  Downloading orjson-3.10.6-cp310-cp310-manylinux_2_17_x86_64.manylinux2014_x86_64.whl.metadata (50 kB)\n",
            "\u001b[2K     \u001b[90m━━━━━━━━━━━━━━━━━━━━━━━━━━━━━━━━━━━━━━━━\u001b[0m \u001b[32m50.4/50.4 kB\u001b[0m \u001b[31m3.3 MB/s\u001b[0m eta \u001b[36m0:00:00\u001b[0m\n",
            "\u001b[?25hRequirement already satisfied: requests<3,>=2 in /usr/local/lib/python3.10/dist-packages (from langsmith<0.2.0,>=0.1.75->langchain-core<0.3.0,>=0.2.26->langchain-groq) (2.31.0)\n",
            "Requirement already satisfied: annotated-types>=0.4.0 in /usr/local/lib/python3.10/dist-packages (from pydantic<3,>=1.9.0->groq<1,>=0.4.1->langchain-groq) (0.7.0)\n",
            "Requirement already satisfied: pydantic-core==2.20.1 in /usr/local/lib/python3.10/dist-packages (from pydantic<3,>=1.9.0->groq<1,>=0.4.1->langchain-groq) (2.20.1)\n",
            "Requirement already satisfied: charset-normalizer<4,>=2 in /usr/local/lib/python3.10/dist-packages (from requests<3,>=2->langsmith<0.2.0,>=0.1.75->langchain-core<0.3.0,>=0.2.26->langchain-groq) (3.3.2)\n",
            "Requirement already satisfied: urllib3<3,>=1.21.1 in /usr/local/lib/python3.10/dist-packages (from requests<3,>=2->langsmith<0.2.0,>=0.1.75->langchain-core<0.3.0,>=0.2.26->langchain-groq) (2.0.7)\n",
            "Downloading langchain_groq-0.1.9-py3-none-any.whl (14 kB)\n",
            "Downloading groq-0.9.0-py3-none-any.whl (103 kB)\n",
            "\u001b[2K   \u001b[90m━━━━━━━━━━━━━━━━━━━━━━━━━━━━━━━━━━━━━━━━\u001b[0m \u001b[32m103.5/103.5 kB\u001b[0m \u001b[31m7.5 MB/s\u001b[0m eta \u001b[36m0:00:00\u001b[0m\n",
            "\u001b[?25hDownloading langchain_core-0.2.28-py3-none-any.whl (379 kB)\n",
            "\u001b[2K   \u001b[90m━━━━━━━━━━━━━━━━━━━━━━━━━━━━━━━━━━━━━━━━\u001b[0m \u001b[32m379.9/379.9 kB\u001b[0m \u001b[31m18.3 MB/s\u001b[0m eta \u001b[36m0:00:00\u001b[0m\n",
            "\u001b[?25hDownloading httpx-0.27.0-py3-none-any.whl (75 kB)\n",
            "\u001b[2K   \u001b[90m━━━━━━━━━━━━━━━━━━━━━━━━━━━━━━━━━━━━━━━━\u001b[0m \u001b[32m75.6/75.6 kB\u001b[0m \u001b[31m6.0 MB/s\u001b[0m eta \u001b[36m0:00:00\u001b[0m\n",
            "\u001b[?25hDownloading httpcore-1.0.5-py3-none-any.whl (77 kB)\n",
            "\u001b[2K   \u001b[90m━━━━━━━━━━━━━━━━━━━━━━━━━━━━━━━━━━━━━━━━\u001b[0m \u001b[32m77.9/77.9 kB\u001b[0m \u001b[31m6.2 MB/s\u001b[0m eta \u001b[36m0:00:00\u001b[0m\n",
            "\u001b[?25hDownloading jsonpatch-1.33-py2.py3-none-any.whl (12 kB)\n",
            "Downloading langsmith-0.1.98-py3-none-any.whl (140 kB)\n",
            "\u001b[2K   \u001b[90m━━━━━━━━━━━━━━━━━━━━━━━━━━━━━━━━━━━━━━━━\u001b[0m \u001b[32m140.2/140.2 kB\u001b[0m \u001b[31m11.7 MB/s\u001b[0m eta \u001b[36m0:00:00\u001b[0m\n",
            "\u001b[?25hDownloading tenacity-8.5.0-py3-none-any.whl (28 kB)\n",
            "Downloading jsonpointer-3.0.0-py2.py3-none-any.whl (7.6 kB)\n",
            "Downloading orjson-3.10.6-cp310-cp310-manylinux_2_17_x86_64.manylinux2014_x86_64.whl (141 kB)\n",
            "\u001b[2K   \u001b[90m━━━━━━━━━━━━━━━━━━━━━━━━━━━━━━━━━━━━━━━━\u001b[0m \u001b[32m141.1/141.1 kB\u001b[0m \u001b[31m11.3 MB/s\u001b[0m eta \u001b[36m0:00:00\u001b[0m\n",
            "\u001b[?25hDownloading h11-0.14.0-py3-none-any.whl (58 kB)\n",
            "\u001b[2K   \u001b[90m━━━━━━━━━━━━━━━━━━━━━━━━━━━━━━━━━━━━━━━━\u001b[0m \u001b[32m58.3/58.3 kB\u001b[0m \u001b[31m4.4 MB/s\u001b[0m eta \u001b[36m0:00:00\u001b[0m\n",
            "\u001b[?25hInstalling collected packages: tenacity, orjson, jsonpointer, h11, jsonpatch, httpcore, langsmith, httpx, langchain-core, groq, langchain-groq\n",
            "  Attempting uninstall: tenacity\n",
            "    Found existing installation: tenacity 9.0.0\n",
            "    Uninstalling tenacity-9.0.0:\n",
            "      Successfully uninstalled tenacity-9.0.0\n",
            "Successfully installed groq-0.9.0 h11-0.14.0 httpcore-1.0.5 httpx-0.27.0 jsonpatch-1.33 jsonpointer-3.0.0 langchain-core-0.2.28 langchain-groq-0.1.9 langsmith-0.1.98 orjson-3.10.6 tenacity-8.5.0\n",
            "Collecting langchain_community\n",
            "  Downloading langchain_community-0.2.11-py3-none-any.whl.metadata (2.7 kB)\n",
            "Requirement already satisfied: PyYAML>=5.3 in /usr/local/lib/python3.10/dist-packages (from langchain_community) (6.0.1)\n",
            "Requirement already satisfied: SQLAlchemy<3,>=1.4 in /usr/local/lib/python3.10/dist-packages (from langchain_community) (2.0.31)\n",
            "Requirement already satisfied: aiohttp<4.0.0,>=3.8.3 in /usr/local/lib/python3.10/dist-packages (from langchain_community) (3.10.0)\n",
            "Collecting dataclasses-json<0.7,>=0.5.7 (from langchain_community)\n",
            "  Downloading dataclasses_json-0.6.7-py3-none-any.whl.metadata (25 kB)\n",
            "Collecting langchain<0.3.0,>=0.2.12 (from langchain_community)\n",
            "  Downloading langchain-0.2.12-py3-none-any.whl.metadata (7.1 kB)\n",
            "Requirement already satisfied: langchain-core<0.3.0,>=0.2.27 in /usr/local/lib/python3.10/dist-packages (from langchain_community) (0.2.28)\n",
            "Requirement already satisfied: langsmith<0.2.0,>=0.1.0 in /usr/local/lib/python3.10/dist-packages (from langchain_community) (0.1.98)\n",
            "Requirement already satisfied: numpy<2,>=1 in /usr/local/lib/python3.10/dist-packages (from langchain_community) (1.26.4)\n",
            "Requirement already satisfied: requests<3,>=2 in /usr/local/lib/python3.10/dist-packages (from langchain_community) (2.31.0)\n",
            "Requirement already satisfied: tenacity!=8.4.0,<9.0.0,>=8.1.0 in /usr/local/lib/python3.10/dist-packages (from langchain_community) (8.5.0)\n",
            "Requirement already satisfied: aiohappyeyeballs>=2.3.0 in /usr/local/lib/python3.10/dist-packages (from aiohttp<4.0.0,>=3.8.3->langchain_community) (2.3.4)\n",
            "Requirement already satisfied: aiosignal>=1.1.2 in /usr/local/lib/python3.10/dist-packages (from aiohttp<4.0.0,>=3.8.3->langchain_community) (1.3.1)\n",
            "Requirement already satisfied: attrs>=17.3.0 in /usr/local/lib/python3.10/dist-packages (from aiohttp<4.0.0,>=3.8.3->langchain_community) (23.2.0)\n",
            "Requirement already satisfied: frozenlist>=1.1.1 in /usr/local/lib/python3.10/dist-packages (from aiohttp<4.0.0,>=3.8.3->langchain_community) (1.4.1)\n",
            "Requirement already satisfied: multidict<7.0,>=4.5 in /usr/local/lib/python3.10/dist-packages (from aiohttp<4.0.0,>=3.8.3->langchain_community) (6.0.5)\n",
            "Requirement already satisfied: yarl<2.0,>=1.0 in /usr/local/lib/python3.10/dist-packages (from aiohttp<4.0.0,>=3.8.3->langchain_community) (1.9.4)\n",
            "Requirement already satisfied: async-timeout<5.0,>=4.0 in /usr/local/lib/python3.10/dist-packages (from aiohttp<4.0.0,>=3.8.3->langchain_community) (4.0.3)\n",
            "Collecting marshmallow<4.0.0,>=3.18.0 (from dataclasses-json<0.7,>=0.5.7->langchain_community)\n",
            "  Downloading marshmallow-3.21.3-py3-none-any.whl.metadata (7.1 kB)\n",
            "Collecting typing-inspect<1,>=0.4.0 (from dataclasses-json<0.7,>=0.5.7->langchain_community)\n",
            "  Downloading typing_inspect-0.9.0-py3-none-any.whl.metadata (1.5 kB)\n",
            "Collecting langchain-text-splitters<0.3.0,>=0.2.0 (from langchain<0.3.0,>=0.2.12->langchain_community)\n",
            "  Downloading langchain_text_splitters-0.2.2-py3-none-any.whl.metadata (2.1 kB)\n",
            "Requirement already satisfied: pydantic<3,>=1 in /usr/local/lib/python3.10/dist-packages (from langchain<0.3.0,>=0.2.12->langchain_community) (2.8.2)\n",
            "Requirement already satisfied: jsonpatch<2.0,>=1.33 in /usr/local/lib/python3.10/dist-packages (from langchain-core<0.3.0,>=0.2.27->langchain_community) (1.33)\n",
            "Requirement already satisfied: packaging<25,>=23.2 in /usr/local/lib/python3.10/dist-packages (from langchain-core<0.3.0,>=0.2.27->langchain_community) (24.1)\n",
            "Requirement already satisfied: typing-extensions>=4.7 in /usr/local/lib/python3.10/dist-packages (from langchain-core<0.3.0,>=0.2.27->langchain_community) (4.12.2)\n",
            "Requirement already satisfied: orjson<4.0.0,>=3.9.14 in /usr/local/lib/python3.10/dist-packages (from langsmith<0.2.0,>=0.1.0->langchain_community) (3.10.6)\n",
            "Requirement already satisfied: charset-normalizer<4,>=2 in /usr/local/lib/python3.10/dist-packages (from requests<3,>=2->langchain_community) (3.3.2)\n",
            "Requirement already satisfied: idna<4,>=2.5 in /usr/local/lib/python3.10/dist-packages (from requests<3,>=2->langchain_community) (3.7)\n",
            "Requirement already satisfied: urllib3<3,>=1.21.1 in /usr/local/lib/python3.10/dist-packages (from requests<3,>=2->langchain_community) (2.0.7)\n",
            "Requirement already satisfied: certifi>=2017.4.17 in /usr/local/lib/python3.10/dist-packages (from requests<3,>=2->langchain_community) (2024.7.4)\n",
            "Requirement already satisfied: greenlet!=0.4.17 in /usr/local/lib/python3.10/dist-packages (from SQLAlchemy<3,>=1.4->langchain_community) (3.0.3)\n",
            "Requirement already satisfied: jsonpointer>=1.9 in /usr/local/lib/python3.10/dist-packages (from jsonpatch<2.0,>=1.33->langchain-core<0.3.0,>=0.2.27->langchain_community) (3.0.0)\n",
            "Requirement already satisfied: annotated-types>=0.4.0 in /usr/local/lib/python3.10/dist-packages (from pydantic<3,>=1->langchain<0.3.0,>=0.2.12->langchain_community) (0.7.0)\n",
            "Requirement already satisfied: pydantic-core==2.20.1 in /usr/local/lib/python3.10/dist-packages (from pydantic<3,>=1->langchain<0.3.0,>=0.2.12->langchain_community) (2.20.1)\n",
            "Collecting mypy-extensions>=0.3.0 (from typing-inspect<1,>=0.4.0->dataclasses-json<0.7,>=0.5.7->langchain_community)\n",
            "  Downloading mypy_extensions-1.0.0-py3-none-any.whl.metadata (1.1 kB)\n",
            "Downloading langchain_community-0.2.11-py3-none-any.whl (2.3 MB)\n",
            "\u001b[2K   \u001b[90m━━━━━━━━━━━━━━━━━━━━━━━━━━━━━━━━━━━━━━━━\u001b[0m \u001b[32m2.3/2.3 MB\u001b[0m \u001b[31m47.8 MB/s\u001b[0m eta \u001b[36m0:00:00\u001b[0m\n",
            "\u001b[?25hDownloading dataclasses_json-0.6.7-py3-none-any.whl (28 kB)\n",
            "Downloading langchain-0.2.12-py3-none-any.whl (990 kB)\n",
            "\u001b[2K   \u001b[90m━━━━━━━━━━━━━━━━━━━━━━━━━━━━━━━━━━━━━━━━\u001b[0m \u001b[32m990.6/990.6 kB\u001b[0m \u001b[31m47.7 MB/s\u001b[0m eta \u001b[36m0:00:00\u001b[0m\n",
            "\u001b[?25hDownloading langchain_text_splitters-0.2.2-py3-none-any.whl (25 kB)\n",
            "Downloading marshmallow-3.21.3-py3-none-any.whl (49 kB)\n",
            "\u001b[2K   \u001b[90m━━━━━━━━━━━━━━━━━━━━━━━━━━━━━━━━━━━━━━━━\u001b[0m \u001b[32m49.2/49.2 kB\u001b[0m \u001b[31m4.1 MB/s\u001b[0m eta \u001b[36m0:00:00\u001b[0m\n",
            "\u001b[?25hDownloading typing_inspect-0.9.0-py3-none-any.whl (8.8 kB)\n",
            "Downloading mypy_extensions-1.0.0-py3-none-any.whl (4.7 kB)\n",
            "Installing collected packages: mypy-extensions, marshmallow, typing-inspect, dataclasses-json, langchain-text-splitters, langchain, langchain_community\n",
            "Successfully installed dataclasses-json-0.6.7 langchain-0.2.12 langchain-text-splitters-0.2.2 langchain_community-0.2.11 marshmallow-3.21.3 mypy-extensions-1.0.0 typing-inspect-0.9.0\n"
          ]
        }
      ]
    },
    {
      "cell_type": "code",
      "source": [
        "import os\n",
        "import pandas as pd\n",
        "import numpy as np\n",
        "from getpass import getpass\n",
        "from langchain_groq import ChatGroq\n",
        "from langchain_core.prompts import PromptTemplate"
      ],
      "metadata": {
        "id": "d4POuy_qx8Oi"
      },
      "execution_count": 2,
      "outputs": []
    },
    {
      "cell_type": "code",
      "source": [
        "GROQ_API_KEY = getpass()\n",
        "os.environ[\"GROQ_API_KEY\"] = GROQ_API_KEY"
      ],
      "metadata": {
        "colab": {
          "base_uri": "https://localhost:8080/"
        },
        "id": "UzuD1rWeyRz-",
        "outputId": "2e698037-742a-49cc-c1ce-f1232054afcb"
      },
      "execution_count": 18,
      "outputs": [
        {
          "name": "stdout",
          "output_type": "stream",
          "text": [
            "··········\n"
          ]
        }
      ]
    },
    {
      "cell_type": "code",
      "source": [
        "llm = ChatGroq(model_name=\"llama3-8b-8192\")"
      ],
      "metadata": {
        "id": "Yqd7G8DI4yal"
      },
      "execution_count": 19,
      "outputs": []
    },
    {
      "cell_type": "code",
      "source": [
        "User_Data=pd.DataFrame(columns=[\"Name\",\"Phone Number\",\"Problem\",\"Resolution\"])"
      ],
      "metadata": {
        "id": "uQBgAafyCln4"
      },
      "execution_count": 20,
      "outputs": []
    },
    {
      "cell_type": "code",
      "source": [
        "def get_conversational_chain(complain, chat_history):\n",
        "    prompt_template = \"\"\"You are a medical experiment. You have been given the patient's complain. You have to\n",
        "        diagnose the patient's disease. Identify and ask crucial question to help you narrow down and diagnose the\n",
        "        patient. Ask only one question based on the response. If no chat-history is provided ask initial first question.\n",
        "\n",
        "        Previous Conversation: {previous_conversation}\n",
        "\n",
        "        Patient Complain:\n",
        "        {complain}\n",
        "\n",
        "        Question:\n",
        "        \"\"\"\n",
        "    previous_conversation = \" \".join([entry[\"user\"] for entry in chat_history])\n",
        "    prompt = prompt_template.format(previous_conversation=previous_conversation, complain=complain)\n",
        "    response = llm.predict(prompt)\n",
        "    return response"
      ],
      "metadata": {
        "id": "cD4kz1_kFinV"
      },
      "execution_count": 21,
      "outputs": []
    },
    {
      "cell_type": "code",
      "source": [
        "def get_final_solution(complain, chat_history):\n",
        "    prompt_template =\"\"\"\n",
        "        You are an expert chat doctor. Your task is to suggest the best diagnosing to the patient based on the complain and follow up questions.\n",
        "        Do not suggest the steps to refer to doctor. Mention the list of possible disease, diagnose and common medications for the same. You make take help from the following contexts to diagnose the disease.\n",
        "        Only Return the Final Response of expected disease. Do not return the intermediate results.\n",
        "\n",
        "\n",
        "        Question: the input question you must answer\n",
        "        Thought: you should always think about what to do\n",
        "        Action: the action to take\n",
        "        Action Input: the input to the action\n",
        "        Observation: the result of the action\n",
        "       ... (this Thought/Action/Action Input/Observation can repeat N times)\n",
        "        Final Answer: the final answer to the original input question\n",
        "\n",
        "        Begin!\n",
        "\n",
        "        Patient Symptoms: {complain}\n",
        "\n",
        "        Follow Up questions and answer from patient:\n",
        "        {chat_history_str}\n",
        "        \"\"\"\n",
        "\n",
        "    chat_history_str = \"\"\n",
        "    for i, entry in enumerate(chat_history):\n",
        "        if 'user' in entry:\n",
        "            chat_history_str += f\"User: {entry['user']}\\n\"\n",
        "        elif 'User' in entry:\n",
        "            chat_history_str += f\"User: {entry['User']}\\n\"\n",
        "        chat_history_str += f\"Dr: {entry['Dr']}\\n\"\n",
        "    prompt = prompt_template.format(chat_history_str=chat_history_str, complain=complain)\n",
        "    response = llm.predict(prompt)\n",
        "    return response"
      ],
      "metadata": {
        "id": "gL00snJsSBhd"
      },
      "execution_count": 22,
      "outputs": []
    },
    {
      "cell_type": "code",
      "source": [
        "name = input(\"How are you I'm an AI Doctor, before we get started, please tell me your name \")\n",
        "num = input(\"And your phone number \")\n",
        "print(f\"Welcome {name}, How can I help you ? \")\n",
        "# complain = input(\"What's your complaint? \")\n",
        "chat_history = []\n",
        "for i in range(4):\n",
        "    user = input()\n",
        "    response = get_conversational_chain(user, chat_history)\n",
        "    chat_history.append({\"user\": user, \"Dr\": response})\n",
        "    print(response)\n",
        "\n",
        "lastly = input()\n",
        "chat_history.append({\"user\":lastly,\"Dr\":\"ok, I'm done questioning\"})"
      ],
      "metadata": {
        "colab": {
          "base_uri": "https://localhost:8080/"
        },
        "collapsed": true,
        "id": "kN0v7m6W_Bfy",
        "outputId": "9c448d01-9756-4b51-f73a-6020d5b91d3c"
      },
      "execution_count": 23,
      "outputs": [
        {
          "name": "stdout",
          "output_type": "stream",
          "text": [
            "How are you I'm an AI Doctor, before we get started, please tell me your name Yash\n",
            "And your phone number 234567\n",
            "Welcome Yash, How can I help you ? \n",
            "I have red skin \n",
            "Can you tell me more about the redness of your skin? Is it a patchy redness or is the entire skin surface affected?\n",
            "it is round in shape around my armpit\n",
            "Interesting! Given that you have red skin and it's round in shape around your armpit, I'd like to know:\n",
            "\n",
            "Are the red skin lesions (the round shape) tender to the touch, or are they relatively flat and non-tender?\n",
            "flat\n",
            "Interesting! With the patient complaining of flatness and having red, round skin lesions around the armpit, my next question would be:\n",
            "\n",
            "Are the lesions itchy or painful?\n",
            "yeah itchy\n",
            "Based on the patient's symptom of having red, itchy, round, flat skin around the armpit, my next question is:\n",
            "\n",
            "Do you have any history of allergies or previous reactions to any substances, such as insect bites, medications, or foods, that may have triggered this rash?\n",
            "No\n"
          ]
        }
      ]
    },
    {
      "cell_type": "code",
      "source": [
        "final_response = get_final_solution(chat_history[0]['user'], chat_history)\n",
        "print(final_response)"
      ],
      "metadata": {
        "id": "Sgv8-NnKOyGa",
        "collapsed": true,
        "colab": {
          "base_uri": "https://localhost:8080/"
        },
        "outputId": "5e4f5a8d-9b3c-4f32-acb8-8b5bc2966889"
      },
      "execution_count": 24,
      "outputs": [
        {
          "output_type": "stream",
          "name": "stdout",
          "text": [
            "**Final Answer:**\n",
            "\n",
            "Based on the patient's symptoms of red skin, round in shape around the armpit, flat, itchy, and no history of allergies, I diagnose the patient with **Eczema** (Atopic Dermatitis).\n",
            "\n",
            "**Possible Diseases:**\n",
            "\n",
            "* Eczema (Atopic Dermatitis)\n",
            "* Contact Dermatitis\n",
            "* Insect Bite Allergy\n",
            "* Seborrheic Dermatitis\n",
            "* Psoriasis\n",
            "\n",
            "**Common Medications:**\n",
            "\n",
            "* Topical corticosteroids (hydrocortisone cream)\n",
            "* Topical immunomodulators (pimecrolimus cream)\n",
            "* Moisturizers (cetaphil cream)\n",
            "* Antihistamines (diphenhydramine)\n",
            "* Oral corticosteroids (prednisone) for severe cases\n"
          ]
        }
      ]
    },
    {
      "cell_type": "code",
      "source": [
        "User_Data.loc[len(User_Data)] = [name, num, chat_history[0]['user'], final_response]"
      ],
      "metadata": {
        "id": "LC1RackWWiXr"
      },
      "execution_count": 25,
      "outputs": []
    },
    {
      "cell_type": "code",
      "source": [
        "User_Data.head()"
      ],
      "metadata": {
        "id": "HjWc08l_W8gT",
        "collapsed": true,
        "colab": {
          "base_uri": "https://localhost:8080/",
          "height": 207
        },
        "outputId": "8921da4d-f36e-48e0-ccac-f977792f24b0"
      },
      "execution_count": 26,
      "outputs": [
        {
          "output_type": "execute_result",
          "data": {
            "text/plain": [
              "   Name Phone Number           Problem  \\\n",
              "0  Yash       234567  I have red skin    \n",
              "\n",
              "                                          Resolution  \n",
              "0  **Final Answer:**\\n\\nBased on the patient's sy...  "
            ],
            "text/html": [
              "\n",
              "  <div id=\"df-bbef6460-b02a-42ca-b0c0-024d3ec545a9\" class=\"colab-df-container\">\n",
              "    <div>\n",
              "<style scoped>\n",
              "    .dataframe tbody tr th:only-of-type {\n",
              "        vertical-align: middle;\n",
              "    }\n",
              "\n",
              "    .dataframe tbody tr th {\n",
              "        vertical-align: top;\n",
              "    }\n",
              "\n",
              "    .dataframe thead th {\n",
              "        text-align: right;\n",
              "    }\n",
              "</style>\n",
              "<table border=\"1\" class=\"dataframe\">\n",
              "  <thead>\n",
              "    <tr style=\"text-align: right;\">\n",
              "      <th></th>\n",
              "      <th>Name</th>\n",
              "      <th>Phone Number</th>\n",
              "      <th>Problem</th>\n",
              "      <th>Resolution</th>\n",
              "    </tr>\n",
              "  </thead>\n",
              "  <tbody>\n",
              "    <tr>\n",
              "      <th>0</th>\n",
              "      <td>Yash</td>\n",
              "      <td>234567</td>\n",
              "      <td>I have red skin</td>\n",
              "      <td>**Final Answer:**\\n\\nBased on the patient's sy...</td>\n",
              "    </tr>\n",
              "  </tbody>\n",
              "</table>\n",
              "</div>\n",
              "    <div class=\"colab-df-buttons\">\n",
              "\n",
              "  <div class=\"colab-df-container\">\n",
              "    <button class=\"colab-df-convert\" onclick=\"convertToInteractive('df-bbef6460-b02a-42ca-b0c0-024d3ec545a9')\"\n",
              "            title=\"Convert this dataframe to an interactive table.\"\n",
              "            style=\"display:none;\">\n",
              "\n",
              "  <svg xmlns=\"http://www.w3.org/2000/svg\" height=\"24px\" viewBox=\"0 -960 960 960\">\n",
              "    <path d=\"M120-120v-720h720v720H120Zm60-500h600v-160H180v160Zm220 220h160v-160H400v160Zm0 220h160v-160H400v160ZM180-400h160v-160H180v160Zm440 0h160v-160H620v160ZM180-180h160v-160H180v160Zm440 0h160v-160H620v160Z\"/>\n",
              "  </svg>\n",
              "    </button>\n",
              "\n",
              "  <style>\n",
              "    .colab-df-container {\n",
              "      display:flex;\n",
              "      gap: 12px;\n",
              "    }\n",
              "\n",
              "    .colab-df-convert {\n",
              "      background-color: #E8F0FE;\n",
              "      border: none;\n",
              "      border-radius: 50%;\n",
              "      cursor: pointer;\n",
              "      display: none;\n",
              "      fill: #1967D2;\n",
              "      height: 32px;\n",
              "      padding: 0 0 0 0;\n",
              "      width: 32px;\n",
              "    }\n",
              "\n",
              "    .colab-df-convert:hover {\n",
              "      background-color: #E2EBFA;\n",
              "      box-shadow: 0px 1px 2px rgba(60, 64, 67, 0.3), 0px 1px 3px 1px rgba(60, 64, 67, 0.15);\n",
              "      fill: #174EA6;\n",
              "    }\n",
              "\n",
              "    .colab-df-buttons div {\n",
              "      margin-bottom: 4px;\n",
              "    }\n",
              "\n",
              "    [theme=dark] .colab-df-convert {\n",
              "      background-color: #3B4455;\n",
              "      fill: #D2E3FC;\n",
              "    }\n",
              "\n",
              "    [theme=dark] .colab-df-convert:hover {\n",
              "      background-color: #434B5C;\n",
              "      box-shadow: 0px 1px 3px 1px rgba(0, 0, 0, 0.15);\n",
              "      filter: drop-shadow(0px 1px 2px rgba(0, 0, 0, 0.3));\n",
              "      fill: #FFFFFF;\n",
              "    }\n",
              "  </style>\n",
              "\n",
              "    <script>\n",
              "      const buttonEl =\n",
              "        document.querySelector('#df-bbef6460-b02a-42ca-b0c0-024d3ec545a9 button.colab-df-convert');\n",
              "      buttonEl.style.display =\n",
              "        google.colab.kernel.accessAllowed ? 'block' : 'none';\n",
              "\n",
              "      async function convertToInteractive(key) {\n",
              "        const element = document.querySelector('#df-bbef6460-b02a-42ca-b0c0-024d3ec545a9');\n",
              "        const dataTable =\n",
              "          await google.colab.kernel.invokeFunction('convertToInteractive',\n",
              "                                                    [key], {});\n",
              "        if (!dataTable) return;\n",
              "\n",
              "        const docLinkHtml = 'Like what you see? Visit the ' +\n",
              "          '<a target=\"_blank\" href=https://colab.research.google.com/notebooks/data_table.ipynb>data table notebook</a>'\n",
              "          + ' to learn more about interactive tables.';\n",
              "        element.innerHTML = '';\n",
              "        dataTable['output_type'] = 'display_data';\n",
              "        await google.colab.output.renderOutput(dataTable, element);\n",
              "        const docLink = document.createElement('div');\n",
              "        docLink.innerHTML = docLinkHtml;\n",
              "        element.appendChild(docLink);\n",
              "      }\n",
              "    </script>\n",
              "  </div>\n",
              "\n",
              "\n",
              "    </div>\n",
              "  </div>\n"
            ],
            "application/vnd.google.colaboratory.intrinsic+json": {
              "type": "dataframe",
              "variable_name": "User_Data",
              "summary": "{\n  \"name\": \"User_Data\",\n  \"rows\": 1,\n  \"fields\": [\n    {\n      \"column\": \"Name\",\n      \"properties\": {\n        \"dtype\": \"string\",\n        \"num_unique_values\": 1,\n        \"samples\": [\n          \"Yash\"\n        ],\n        \"semantic_type\": \"\",\n        \"description\": \"\"\n      }\n    },\n    {\n      \"column\": \"Phone Number\",\n      \"properties\": {\n        \"dtype\": \"string\",\n        \"num_unique_values\": 1,\n        \"samples\": [\n          \"234567\"\n        ],\n        \"semantic_type\": \"\",\n        \"description\": \"\"\n      }\n    },\n    {\n      \"column\": \"Problem\",\n      \"properties\": {\n        \"dtype\": \"string\",\n        \"num_unique_values\": 1,\n        \"samples\": [\n          \"I have red skin \"\n        ],\n        \"semantic_type\": \"\",\n        \"description\": \"\"\n      }\n    },\n    {\n      \"column\": \"Resolution\",\n      \"properties\": {\n        \"dtype\": \"string\",\n        \"num_unique_values\": 1,\n        \"samples\": [\n          \"**Final Answer:**\\n\\nBased on the patient's symptoms of red skin, round in shape around the armpit, flat, itchy, and no history of allergies, I diagnose the patient with **Eczema** (Atopic Dermatitis).\\n\\n**Possible Diseases:**\\n\\n* Eczema (Atopic Dermatitis)\\n* Contact Dermatitis\\n* Insect Bite Allergy\\n* Seborrheic Dermatitis\\n* Psoriasis\\n\\n**Common Medications:**\\n\\n* Topical corticosteroids (hydrocortisone cream)\\n* Topical immunomodulators (pimecrolimus cream)\\n* Moisturizers (cetaphil cream)\\n* Antihistamines (diphenhydramine)\\n* Oral corticosteroids (prednisone) for severe cases\"\n        ],\n        \"semantic_type\": \"\",\n        \"description\": \"\"\n      }\n    }\n  ]\n}"
            }
          },
          "metadata": {},
          "execution_count": 26
        }
      ]
    },
    {
      "cell_type": "code",
      "source": [
        "User_Data.to_csv('output.csv', index=False)"
      ],
      "metadata": {
        "id": "uWuZUXQLXgnm"
      },
      "execution_count": 27,
      "outputs": []
    },
    {
      "cell_type": "code",
      "source": [
        "def research(med):\n",
        "    prompt_template =\"\"\"\n",
        "        You are an medical expert , researcher and guide. Your task is to tell me completely about {med}\n",
        "        \"\"\"\n",
        "\n",
        "    prompt = prompt_template.format(med=med)\n",
        "    response = llm.predict(prompt)\n",
        "    return response"
      ],
      "metadata": {
        "id": "lw8HQpd7Rv2T"
      },
      "execution_count": 28,
      "outputs": []
    },
    {
      "cell_type": "code",
      "source": [
        "final_response = research(\"metoprolol\")\n",
        "print(final_response)"
      ],
      "metadata": {
        "id": "By6LOBZCSQ3o",
        "colab": {
          "base_uri": "https://localhost:8080/"
        },
        "outputId": "ccbb7e67-74c5-4418-e40d-d616e2945576"
      },
      "execution_count": 29,
      "outputs": [
        {
          "output_type": "stream",
          "name": "stdout",
          "text": [
            "As a medical expert, researcher, and guide, I'd be happy to provide you with a comprehensive overview of metoprolol.\n",
            "\n",
            "**What is Metoprolol?**\n",
            "\n",
            "Metoprolol is a type of medication known as a beta blocker, which is used to treat high blood pressure (hypertension), angina (chest pain), and certain heart conditions. It belongs to a class of medications called selective beta-1 blockers, which means it primarily targets the beta-1 receptors in the heart.\n",
            "\n",
            "**How does Metoprolol work?**\n",
            "\n",
            "Metoprolol works by slowing down the heart rate and reducing the force of the heart's contractions. This helps to:\n",
            "\n",
            "1. Lower blood pressure: By reducing the heart rate and blood pressure, metoprolol helps to reduce the workload on the heart and blood vessels, which can help to lower blood pressure.\n",
            "2. Reduce angina: By reducing the heart rate and blood pressure, metoprolol can help to reduce the frequency and severity of angina attacks.\n",
            "3. Prevent heart failure: By reducing the heart rate and blood pressure, metoprolol can help to reduce the risk of heart failure in people with heart disease.\n",
            "\n",
            "**Types of Metoprolol**\n",
            "\n",
            "There are two main types of metoprolol:\n",
            "\n",
            "1. **Immediate-release metoprolol**: This type of metoprolol is designed to provide quick relief from symptoms and is often used to treat hypertension or angina.\n",
            "2. **Extended-release metoprolol**: This type of metoprolol is designed to provide longer-lasting relief from symptoms and is often used to treat chronic conditions such as hypertension or heart failure.\n",
            "\n",
            "**How is Metoprolol taken?**\n",
            "\n",
            "Metoprolol can be taken orally in the form of a tablet or capsule. The dosage and frequency of administration will depend on the individual patient's condition and the type of metoprolol being used.\n",
            "\n",
            "**Common Side Effects of Metoprolol**\n",
            "\n",
            "Common side effects of metoprolol include:\n",
            "\n",
            "1. Dizziness or lightheadedness\n",
            "2. Fatigue or weakness\n",
            "3. Nausea or stomach upset\n",
            "4. Headache\n",
            "5. Cold or clammy skin\n",
            "6. Slowed heart rate\n",
            "7. Constipation\n",
            "\n",
            "**Less Common Side Effects of Metoprolol**\n",
            "\n",
            "Less common side effects of metoprolol include:\n",
            "\n",
            "1. Allergic reactions (e.g., hives, itching, swelling)\n",
            "2. Bronchospasm (e.g., wheezing, coughing)\n",
            "3. Gastrointestinal bleeding or black stools\n",
            "4. Increased risk of kidney failure\n",
            "5. Increased risk of thyroid problems\n",
            "\n",
            "**Precautions and Contraindications**\n",
            "\n",
            "Metoprolol should be used with caution in patients with certain medical conditions, such as:\n",
            "\n",
            "1. Asthma or COPD\n",
            "2. Cardiac arrhythmias\n",
            "3. Kidney disease\n",
            "4. Thyroid problems\n",
            "5. Diabetes\n",
            "\n",
            "Metoprolol is contraindicated in patients with certain medical conditions, such as:\n",
            "\n",
            "1. Known hypersensitivity to metoprolol\n",
            "2. Cardiogenic shock\n",
            "3. Hypersensitive reaction to other beta blockers\n",
            "\n",
            "**Interactions with Other Medications**\n",
            "\n",
            "Metoprolol can interact with other medications, including:\n",
            "\n",
            "1. Antihypertensive medications (e.g., diuretics, calcium channel blockers)\n",
            "2. Medications for depression (e.g., tricyclic antidepressants)\n",
            "3. Medications for anxiety (e.g., benzodiazepines)\n",
            "4. Medications for insomnia (e.g., sedatives)\n",
            "\n",
            "It's important to inform your doctor of all medications you're taking before starting metoprolol.\n",
            "\n",
            "**Conclusion**\n",
            "\n",
            "Metoprolol is a commonly used medication for treating high blood pressure, angina, and certain heart conditions. It works by slowing down the heart rate and reducing the force of the heart's contractions. While it's generally well-tolerated, it can have side effects and interact with other medications. It's important to work closely with your doctor to determine the best dosage and administration schedule for your individual needs.\n"
          ]
        }
      ]
    },
    {
      "cell_type": "code",
      "source": [],
      "metadata": {
        "id": "Rsu0FD1qn4H5"
      },
      "execution_count": null,
      "outputs": []
    }
  ]
}